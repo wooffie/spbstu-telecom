{
  "nbformat": 4,
  "nbformat_minor": 0,
  "metadata": {
    "colab": {
      "name": "lab03.ipynb",
      "provenance": [],
      "collapsed_sections": []
    },
    "kernelspec": {
      "name": "python3",
      "display_name": "Python 3"
    },
    "language_info": {
      "name": "python"
    }
  },
  "cells": [
    {
      "cell_type": "markdown",
      "source": [
        "\n",
        "\n",
        "# Chapter 3: Non-periodic signals\n",
        "\n"
      ],
      "metadata": {
        "id": "n4wu8j_RpvBe"
      }
    },
    {
      "cell_type": "markdown",
      "source": [
        "### Exercise 1\n",
        "\n",
        "Run and listen to the examples in chap03.ipynb.  In the leakage example, try replacing the Hamming window with one of the other windows provided by NumPy, and see what effect they have on leakage. "
      ],
      "metadata": {
        "id": "qBPOy4nkrCqc"
      }
    },
    {
      "cell_type": "code",
      "source": [
        ""
      ],
      "metadata": {
        "id": "ISbLSLsAp1lm"
      },
      "execution_count": null,
      "outputs": []
    },
    {
      "cell_type": "markdown",
      "source": [
        "### Exercise 2\n",
        "\n",
        "Write a class called `SawtoothChirp` that extends `Chirp` and overrides evaluate to generate a sawtooth waveform with frequency that increases (or decreases) linearly."
      ],
      "metadata": {
        "id": "c7eanJijrKYw"
      }
    },
    {
      "cell_type": "code",
      "source": [
        ""
      ],
      "metadata": {
        "id": "HypdLxJQrKpy"
      },
      "execution_count": null,
      "outputs": []
    },
    {
      "cell_type": "markdown",
      "source": [
        "### Exercise 3\n",
        "\n",
        "Make a sawtooth chirp that sweeps from 2500 to 3000 Hz, then\n",
        "make a wave with duration 1 and framerate 20 kHz.  Draw a sketch of\n",
        "what you think the spectrum will look like.  Then plot the\n",
        "spectrum and see if you got it right."
      ],
      "metadata": {
        "id": "5pf2FwVPrMxJ"
      }
    },
    {
      "cell_type": "code",
      "source": [
        ""
      ],
      "metadata": {
        "id": "0VZ0_DPprM8z"
      },
      "execution_count": null,
      "outputs": []
    },
    {
      "cell_type": "markdown",
      "source": [
        "### Exercise 4\n",
        "\n",
        "In musical terminology, a “glissando” is a note that slides from one pitch to another, so it is similar to a chirp. Find or make a recording of a glissando and plot its spectrogram.  \n",
        "\n",
        "One suggestion: George Gershwin's *Rhapsody in Blue* starts with a famous clarinet glissando; you can download a recording from http://archive.org/details/rhapblue11924."
      ],
      "metadata": {
        "id": "fKOyt0ExrQDy"
      }
    },
    {
      "cell_type": "code",
      "source": [
        ""
      ],
      "metadata": {
        "id": "GK2r8_csrQN-"
      },
      "execution_count": null,
      "outputs": []
    },
    {
      "cell_type": "markdown",
      "source": [
        "### Exercise 5\n",
        "\n",
        "A trombone player can play a glissando by extending the trombone slide while blowing continuously. As the slide extends, the total length of the tube gets longer, and the resulting pitch is inversely proportional to length.\n",
        "Assuming that the player moves the slide at a constant speed, how\n",
        "does frequency vary with time?  \n",
        "\n",
        "Write a class called `TromboneGliss` that extends `Chirp` and\n",
        "provides `evaluate`.  Make a wave that simulates a trombone\n",
        "glissando from F3 down to C3 and back up to F3.  C3 is 262 Hz; F3 is\n",
        "349 Hz.\n",
        "\n",
        "Plot a spectrogram of the resulting wave.  Is a trombone glissando\n",
        "more like a linear or exponential chirp?"
      ],
      "metadata": {
        "id": "Smk_hKSprSmE"
      }
    },
    {
      "cell_type": "code",
      "source": [
        ""
      ],
      "metadata": {
        "id": "jPO6od2TrSx7"
      },
      "execution_count": null,
      "outputs": []
    },
    {
      "cell_type": "markdown",
      "source": [
        "### Exercise 6\n",
        "\n",
        "Make or find a recording of a series of vowel sounds and look at the\n",
        "spectrogram.  Can you identify different vowels?"
      ],
      "metadata": {
        "id": "lZvC74vurWBd"
      }
    },
    {
      "cell_type": "code",
      "source": [
        ""
      ],
      "metadata": {
        "id": "OmgiDZ3krWOd"
      },
      "execution_count": null,
      "outputs": []
    }
  ]
}