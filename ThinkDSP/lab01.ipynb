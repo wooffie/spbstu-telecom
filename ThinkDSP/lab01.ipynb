{
  "nbformat": 4,
  "nbformat_minor": 0,
  "metadata": {
    "colab": {
      "name": "lab01.ipynb",
      "provenance": [],
      "collapsed_sections": []
    },
    "kernelspec": {
      "name": "python3",
      "display_name": "Python 3"
    },
    "language_info": {
      "name": "python"
    }
  },
  "cells": [
    {
      "cell_type": "markdown",
      "source": [
        "# Вскоре тут будет первая лабораторная работа"
      ],
      "metadata": {
        "id": "w3OKacCuiBQA"
      }
    },
    {
      "cell_type": "code",
      "source": [
        "print('Colab is cool'[::2])\n",
        "print('Push from colab')"
      ],
      "metadata": {
        "colab": {
          "base_uri": "https://localhost:8080/"
        },
        "id": "L-91oT6eh8fO",
        "outputId": "5e9daed1-7bc7-4bcd-ae6f-ef1c4cc5d185"
      },
      "execution_count": null,
      "outputs": [
        {
          "output_type": "stream",
          "name": "stdout",
          "text": [
            "Clbi ol\n"
          ]
        }
      ]
    }
  ]
}