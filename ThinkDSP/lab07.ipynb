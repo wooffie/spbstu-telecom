{
  "nbformat": 4,
  "nbformat_minor": 0,
  "metadata": {
    "colab": {
      "name": "lab07.ipynb",
      "provenance": [],
      "collapsed_sections": []
    },
    "kernelspec": {
      "name": "python3",
      "display_name": "Python 3"
    },
    "language_info": {
      "name": "python"
    }
  },
  "cells": [
    {
      "cell_type": "markdown",
      "source": [
        "# Lab07: Discrete Fourier Transform\n",
        "\n",
        "Реализовать алгоритм БПФ.\n"
      ],
      "metadata": {
        "id": "n4wu8j_RpvBe"
      }
    },
    {
      "cell_type": "code",
      "source": [
        "import numpy as np\n",
        "PI2 = 2 * np.pi"
      ],
      "metadata": {
        "id": "ISbLSLsAp1lm"
      },
      "execution_count": 36,
      "outputs": []
    },
    {
      "cell_type": "markdown",
      "source": [
        "Возьмём простой массив для примера:"
      ],
      "metadata": {
        "id": "qOyTlkv5WO-X"
      }
    },
    {
      "cell_type": "code",
      "source": [
        "ys = [0.9,0.7,-0.6,-0.6]\n",
        "hs = np.fft.fft(ys)\n",
        "hs"
      ],
      "metadata": {
        "id": "gOMtCsVRWRSI",
        "outputId": "be3c4356-306e-4bf2-c453-6ab96ea48ec9",
        "colab": {
          "base_uri": "https://localhost:8080/"
        }
      },
      "execution_count": 37,
      "outputs": [
        {
          "output_type": "execute_result",
          "data": {
            "text/plain": [
              "array([0.4+0.j , 1.5-1.3j, 0.2+0.j , 1.5+1.3j])"
            ]
          },
          "metadata": {},
          "execution_count": 37
        }
      ]
    },
    {
      "cell_type": "code",
      "source": [
        "def dft(ys):\n",
        "    N = len(ys)\n",
        "    ts = np.arange(N) / N\n",
        "    freqs = np.arange(N)\n",
        "    args = np.outer(ts, freqs)\n",
        "    M = np.exp(1j * PI2 * args)\n",
        "    amps = M.conj().transpose().dot(ys)\n",
        "    return amps"
      ],
      "metadata": {
        "id": "6kG8zfjhV-0g"
      },
      "execution_count": 38,
      "outputs": []
    },
    {
      "cell_type": "code",
      "source": [
        "dft(ys)"
      ],
      "metadata": {
        "id": "uAPoz5UyWJb6",
        "outputId": "0adcc82c-f552-435b-a5ee-eba33834d12e",
        "colab": {
          "base_uri": "https://localhost:8080/"
        }
      },
      "execution_count": 39,
      "outputs": [
        {
          "output_type": "execute_result",
          "data": {
            "text/plain": [
              "array([0.4+0.0000000e+00j, 1.5-1.3000000e+00j, 0.2-1.2246468e-17j,\n",
              "       1.5+1.3000000e+00j])"
            ]
          },
          "metadata": {},
          "execution_count": 39
        }
      ]
    },
    {
      "cell_type": "markdown",
      "source": [
        "Разделение массива на элементы:"
      ],
      "metadata": {
        "id": "0OhA7SjIYbdg"
      }
    },
    {
      "cell_type": "code",
      "source": [
        "ys[::2] , ys[1::2]"
      ],
      "metadata": {
        "id": "5eAQSlutYdah",
        "outputId": "ff081fcd-41f0-4a0e-e559-0c9851897783",
        "colab": {
          "base_uri": "https://localhost:8080/"
        }
      },
      "execution_count": 40,
      "outputs": [
        {
          "output_type": "execute_result",
          "data": {
            "text/plain": [
              "([0.9, -0.6], [0.7, -0.6])"
            ]
          },
          "metadata": {},
          "execution_count": 40
        }
      ]
    },
    {
      "cell_type": "markdown",
      "source": [
        "Не рекурсивный метод:"
      ],
      "metadata": {
        "id": "imzP4DywYlJt"
      }
    },
    {
      "cell_type": "code",
      "source": [
        "def my_fft(ys):\n",
        "  He = dft(ys[::2])\n",
        "  Ho = dft(ys[1::2])\n",
        "  ns = np.arange(len(ys))\n",
        "  W = np.exp(-1j * PI2 * ns / len(ys))\n",
        "  return np.tile(He, 2) + W * np.tile(Ho, 2)"
      ],
      "metadata": {
        "id": "Fspwt3rUYosG"
      },
      "execution_count": 41,
      "outputs": []
    },
    {
      "cell_type": "code",
      "source": [
        "my_fft(ys)"
      ],
      "metadata": {
        "id": "w-A-ObYKYsyo",
        "outputId": "7012c8fe-290f-4549-efd5-e7695f699ef9",
        "colab": {
          "base_uri": "https://localhost:8080/"
        }
      },
      "execution_count": 42,
      "outputs": [
        {
          "output_type": "execute_result",
          "data": {
            "text/plain": [
              "array([0.4+0.0000000e+00j, 1.5-1.3000000e+00j, 0.2-1.2246468e-17j,\n",
              "       1.5+1.3000000e+00j])"
            ]
          },
          "metadata": {},
          "execution_count": 42
        }
      ]
    },
    {
      "cell_type": "markdown",
      "source": [
        "Заменим на рекурсивный вызов:"
      ],
      "metadata": {
        "id": "5FkMEbW5YxC7"
      }
    },
    {
      "cell_type": "code",
      "source": [
        "def my_fft(ys):\n",
        "  if len(ys) == 1:\n",
        "    return ys\n",
        "  He = my_fft(ys[::2])\n",
        "  Ho = my_fft(ys[1::2])\n",
        "  ns = np.arange(len(ys))\n",
        "  W = np.exp(-1j * PI2 * ns / len(ys))\n",
        "  return np.tile(He, 2) + W * np.tile(Ho, 2)"
      ],
      "metadata": {
        "id": "KJ2C8P3gWqBM"
      },
      "execution_count": 43,
      "outputs": []
    },
    {
      "cell_type": "code",
      "source": [
        "my_fft(ys)"
      ],
      "metadata": {
        "id": "GzAshBwvXkeg",
        "outputId": "a6e9aa22-288b-4080-8d9c-76eced834992",
        "colab": {
          "base_uri": "https://localhost:8080/"
        }
      },
      "execution_count": 44,
      "outputs": [
        {
          "output_type": "execute_result",
          "data": {
            "text/plain": [
              "array([0.4+0.0000000e+00j, 1.5-1.3000000e+00j, 0.2-1.2246468e-17j,\n",
              "       1.5+1.3000000e+00j])"
            ]
          },
          "metadata": {},
          "execution_count": 44
        }
      ]
    }
  ]
}